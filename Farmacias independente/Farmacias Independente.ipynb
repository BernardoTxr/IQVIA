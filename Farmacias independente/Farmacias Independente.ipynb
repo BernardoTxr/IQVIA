{
 "cells": [
  {
   "cell_type": "code",
   "execution_count": 6,
   "metadata": {},
   "outputs": [],
   "source": [
    "from selenium import webdriver\n",
    "from selenium.webdriver.common.by import By\n",
    "from selenium.webdriver.support.ui import WebDriverWait\n",
    "from selenium.webdriver.support import expected_conditions as EC\n",
    "from selenium.common.exceptions import StaleElementReferenceException\n",
    "from selenium.common.exceptions import TimeoutException\n",
    "import time\n",
    "import requests\n",
    "import pandas as pd\n",
    "from bs4 import BeautifulSoup\n",
    "from concurrent.futures import ThreadPoolExecutor\n",
    "from tqdm import tqdm\n",
    "import os"
   ]
  },
  {
   "cell_type": "markdown",
   "metadata": {},
   "source": [
    "### Definindo funções comuns"
   ]
  },
  {
   "cell_type": "code",
   "execution_count": 7,
   "metadata": {},
   "outputs": [],
   "source": [
    "headers = {'User-Agent': 'Mozilla/5.0 (Windows NT 10.0; Win64; x64) AppleWebKit/537.36 (KHTML, like Gecko) Chrome/58.0.3029.110 Safari/537.3'}\n",
    "def extrair_links(html, lista):\n",
    "    soup = BeautifulSoup(html, 'html.parser')\n",
    "    produtos = soup.find_all('div', class_='produto')\n",
    "    \n",
    "    for produto in produtos:\n",
    "        link = produto.find('a', href=True)\n",
    "        \n",
    "        desconto_produto = produto.find('div', class_='desconto-produto')\n",
    "        preco_desconto_element = desconto_produto.find('span', class_='font-weight-bold') if desconto_produto else None\n",
    "        preco_element = produto.find('div', {'data-target': 'preco-produto'})\n",
    "        \n",
    "        preco_com_desconto = preco_element.find('span', class_='font-weight-bold').get_text(strip=True) if preco_element and preco_element.find('span', class_='font-weight-bold') else None\n",
    "        preco_sem_desconto_tag = preco_element.find('p', class_='text-muted font-sm font-weight-semibold') if preco_element else None\n",
    "        preco_sem_desconto = preco_sem_desconto_tag.get_text(strip=True) if preco_sem_desconto_tag else None\n",
    "\n",
    "        resultado = {'URL': 'https://www.farmaciasindependente.com.br' + link['href'], 'Preço sem desconto': preco_sem_desconto, 'Preço com desconto': preco_com_desconto}\n",
    "\n",
    "        lista.append(resultado)\n",
    "    return lista\n",
    "\n",
    "def extrair_infos(url):\n",
    "    try:\n",
    "        response = requests.get(url, headers=headers)\n",
    "        response.raise_for_status()\n",
    "        soup = BeautifulSoup(response.text, 'html.parser')\n",
    "\n",
    "        nome_elemento = soup.find('h1', {'data-target': 'nome_produto'})\n",
    "        ean_elemento = soup.find('p', class_='text-muted my-2 font-sm')\n",
    "        marca_elemento = soup.find('p', class_='font-weight-bolder')\n",
    "\n",
    "        nome = nome_elemento.get_text(strip=True) if nome_elemento else None\n",
    "        ean = ean_elemento.get_text(strip=True).split('EAN: ')[1] if ean_elemento else None\n",
    "        marca = marca_elemento.find('a').get_text(strip=True) if marca_elemento else None\n",
    "        \n",
    "        #Descrição\n",
    "        td_elements = soup.find_all('td', class_='tr-pedido w-50')\n",
    "        descricao_elemento = td_elements[3] if len(td_elements) > 2 else None\n",
    "        descricao = descricao_elemento.get_text(strip=True) if descricao_elemento else None\n",
    "\n",
    "        informacoes = {\n",
    "            'Produto': nome,\n",
    "            'EAN': ean,\n",
    "            'Marca': marca,\n",
    "            'Descrição': descricao\n",
    "        }\n",
    "        return informacoes\n",
    "\n",
    "    except Exception as e:\n",
    "        print(f\"Erro ao processar a URL {url}: {e}\")\n",
    "        return None\n",
    "    \n",
    "def process_url(url):\n",
    "    info = extrair_infos(url)\n",
    "    if info:\n",
    "        return info"
   ]
  },
  {
   "cell_type": "markdown",
   "metadata": {},
   "source": [
    "A primeira aba do código trabalha na extração dos links e preços dos produtos por categorias, e posteriormente acessamos cada link para extrair o restante das informações."
   ]
  },
  {
   "cell_type": "markdown",
   "metadata": {},
   "source": [
    "### Extraindo links"
   ]
  },
  {
   "cell_type": "code",
   "execution_count": 8,
   "metadata": {},
   "outputs": [],
   "source": [
    "categorias = ['medicamentos', 'saude', 'alimentos-e-bebidas', 'higiene-e-cuidados', 'conveniencia', 'beleza-e-perfumaria', 'mamae-e-bebe']\n",
    "\n",
    "driver = webdriver.Chrome()\n",
    "links = []\n",
    "x = 0\n",
    "for categoria in categorias:\n",
    "    ref = f\"https://www.farmaciasindependente.com.br/categorias/{categoria}\"\n",
    "    driver.get(ref)\n",
    "    wait = WebDriverWait(driver, 10)\n",
    "\n",
    "    while True:\n",
    "        try:\n",
    "            wait.until(EC.invisibility_of_element_located((By.CSS_SELECTOR, 'div.load.load-body')))\n",
    "            extrair_links(driver.page_source, links)\n",
    "\n",
    "            # Encontrar e clicar no botão de próxima página\n",
    "            next_page_button = wait.until(EC.element_to_be_clickable((By.CSS_SELECTOR, 'a[data-pagina=\"next\"]')))\n",
    "            next_page_button.click()\n",
    "            time.sleep(2)\n",
    "\n",
    "        except (StaleElementReferenceException, TimeoutException):\n",
    "            break\n",
    "\n",
    "driver.quit()"
   ]
  },
  {
   "cell_type": "markdown",
   "metadata": {},
   "source": [
    "### Extraindo informações"
   ]
  },
  {
   "cell_type": "code",
   "execution_count": 9,
   "metadata": {},
   "outputs": [],
   "source": [
    "# Criando df com links e salvando arquivo\n",
    "df_links = pd.DataFrame(links)\n",
    "df_links = df_links.drop_duplicates()\n",
    "df_links.to_csv('df_links.csv', index=False)"
   ]
  },
  {
   "cell_type": "code",
   "execution_count": 10,
   "metadata": {},
   "outputs": [
    {
     "name": "stderr",
     "output_type": "stream",
     "text": [
      " 41%|████      | 3626/8811 [14:48<17:28,  4.94it/s]  "
     ]
    },
    {
     "name": "stdout",
     "output_type": "stream",
     "text": [
      "Erro ao processar a URL https://www.farmaciasindependente.com.br/assert-25mg-cx-7-comp: 404 Client Error: Not Found for url: https://www.farmaciasindependente.com.br/assert-25mg-cx-7-comp\n"
     ]
    },
    {
     "name": "stderr",
     "output_type": "stream",
     "text": [
      " 41%|████      | 3628/8811 [14:48<15:39,  5.51it/s]"
     ]
    },
    {
     "name": "stdout",
     "output_type": "stream",
     "text": [
      "Erro ao processar a URL https://www.farmaciasindependente.com.br/anador-gts-10ml: 404 Client Error: Not Found for url: https://www.farmaciasindependente.com.br/anador-gts-10ml\n"
     ]
    },
    {
     "name": "stderr",
     "output_type": "stream",
     "text": [
      " 45%|████▍     | 3934/8811 [15:59<27:24,  2.97it/s]"
     ]
    },
    {
     "name": "stdout",
     "output_type": "stream",
     "text": [
      "Erro ao processar a URL https://www.farmaciasindependente.com.br/glimepirida-4mg-30-comprimidos-eurofarma: list index out of range\n"
     ]
    },
    {
     "name": "stderr",
     "output_type": "stream",
     "text": [
      " 57%|█████▋    | 4992/8811 [20:17<16:52,  3.77it/s]  "
     ]
    },
    {
     "name": "stdout",
     "output_type": "stream",
     "text": [
      "Erro ao processar a URL https://www.farmaciasindependente.com.br/agulha-descartavel-descarpack-30x7mm: list index out of range\n"
     ]
    },
    {
     "name": "stderr",
     "output_type": "stream",
     "text": [
      " 87%|████████▋ | 7702/8811 [31:01<03:11,  5.79it/s]"
     ]
    },
    {
     "name": "stdout",
     "output_type": "stream",
     "text": [
      "Erro ao processar a URL https://www.farmaciasindependente.com.br/eximia-temporize-30-capsulas: 404 Client Error: Not Found for url: https://www.farmaciasindependente.com.br/eximia-temporize-30-capsulas\n"
     ]
    },
    {
     "name": "stderr",
     "output_type": "stream",
     "text": [
      "100%|██████████| 8811/8811 [35:11<00:00,  4.17it/s]\n"
     ]
    }
   ],
   "source": [
    "# Visitaremos cada link e puxaremos as informações desejadas do html\n",
    "max_workes = os.cpu_count()\n",
    "\n",
    "infos = []\n",
    "\n",
    "with ThreadPoolExecutor(max_workers=max_workes) as executor:\n",
    "    # Use the map function to apply the process_url function to each URL in parallel\n",
    "    results = list(tqdm(executor.map(process_url, df_links['URL']), total=len(df_links)))\n",
    "\n",
    "# Collect the results\n",
    "infos = list(filter(None, results))\n",
    "\n",
    "df_infos = pd.DataFrame(infos)\n",
    "df_infos.to_csv('df_infos.csv')"
   ]
  },
  {
   "cell_type": "markdown",
   "metadata": {},
   "source": [
    "### Tratamento de dados para output final"
   ]
  },
  {
   "cell_type": "code",
   "execution_count": 13,
   "metadata": {},
   "outputs": [],
   "source": [
    "# Algumas linhas retornaram erros para o dataframe de informações no momento da extração, então essas serão removidas do dataframe de links para termos o mesmo número de linhas\n",
    "links_a_remover = ['https://www.farmaciasindependente.com.br/assert-25mg-cx-7-comp', 'https://www.farmaciasindependente.com.br/anador-gts-10ml', 'https://www.farmaciasindependente.com.br/glimepirida-4mg-30-comprimidos-eurofarma', 'https://www.farmaciasindependente.com.br/agulha-descartavel-descarpack-30x7mm', 'https://www.farmaciasindependente.com.br/eximia-temporize-30-capsulas']\n",
    "df = df_links[~df_links['URL'].isin(links_a_remover)]\n",
    "df = df.reset_index(drop=True)\n",
    "\n",
    "# Juntando os dois dataframes\n",
    "df_final = pd.concat([df_infos, df.iloc[:, -2:]], axis=1)"
   ]
  },
  {
   "cell_type": "code",
   "execution_count": 14,
   "metadata": {},
   "outputs": [],
   "source": [
    "# Formatando as colunas de preços e adicionando a % de desconto\n",
    "df_final['Preço sem desconto'] = df_final['Preço sem desconto'].replace('[^\\d,]', '', regex=True).str.replace(',', '.').astype(float)\n",
    "df_final['Preço com desconto'] = df_final['Preço com desconto'].replace('[^\\d,]', '', regex=True).str.replace(',', '.').astype(float)\n",
    "\n",
    "# Fill NaN values in 'Preço sem desconto' with 'Preço com desconto'\n",
    "df_final['Preço sem desconto'].fillna(df_final['Preço com desconto'], inplace=True)\n",
    "\n",
    "# Calculate '% de desconto'\n",
    "df_final['% de desconto'] = df_final.apply(\n",
    "    lambda row: \"{:.1f}%\".format(round((row['Preço sem desconto'] - row['Preço com desconto']) / row['Preço sem desconto'] * 100))\n",
    "    if pd.notna(row['Preço sem desconto']) and pd.notna(row['Preço com desconto']) and row['Preço sem desconto'] != row['Preço com desconto']\n",
    "    else None,\n",
    "    axis=1\n",
    ")"
   ]
  },
  {
   "cell_type": "code",
   "execution_count": 15,
   "metadata": {},
   "outputs": [],
   "source": [
    "# Adicionando colunas finais\n",
    "df_final['Farmacia'] = 'Santo Remedio'\n",
    "df_final['Região'] = 'Sudeste'\n",
    "df_final['Cidade'] = 'Sao Paulo'"
   ]
  },
  {
   "cell_type": "code",
   "execution_count": 16,
   "metadata": {},
   "outputs": [],
   "source": [
    "df_final.to_csv('df_final.csv', index=False)"
   ]
  }
 ],
 "metadata": {
  "kernelspec": {
   "display_name": "Python 3",
   "language": "python",
   "name": "python3"
  },
  "language_info": {
   "codemirror_mode": {
    "name": "ipython",
    "version": 3
   },
   "file_extension": ".py",
   "mimetype": "text/x-python",
   "name": "python",
   "nbconvert_exporter": "python",
   "pygments_lexer": "ipython3",
   "version": "3.11.4"
  }
 },
 "nbformat": 4,
 "nbformat_minor": 2
}
