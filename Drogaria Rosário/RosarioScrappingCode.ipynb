{
 "cells": [
  {
   "cell_type": "code",
   "execution_count": 2,
   "metadata": {},
   "outputs": [],
   "source": [
    "import json\n",
    "import base64\n",
    "\n",
    "def encode_to_base64(json_data):\n",
    "    # Convert JSON to string\n",
    "    json_string = json.dumps(json_data)\n",
    "\n",
    "    # Encode the JSON string to Base64\n",
    "    base64_encoded = base64.b64encode(json_string.encode()).decode()\n",
    "\n",
    "    return base64_encoded\n",
    "\n",
    "def decode_from_base64(base64_string):\n",
    "    # Add padding if needed\n",
    "    padding = \"=\" * ((4 - len(base64_string) % 4) % 4)\n",
    "    base64_string += padding\n",
    "\n",
    "    # Decode the Base64-encoded string\n",
    "    json_string = base64.b64decode(base64_string).decode()\n",
    "\n",
    "    # Parse the JSON string\n",
    "    decoded_json = json.loads(json_string)\n",
    "\n",
    "    return decoded_json\n",
    "\n"
   ]
  },
  {
   "cell_type": "code",
   "execution_count": 45,
   "metadata": {},
   "outputs": [
    {
     "name": "stdout",
     "output_type": "stream",
     "text": [
      "eyJoaWRlVW5hdmFpbGFibGVJdGVtcyI6IGZhbHNlLCAic2t1c0ZpbHRlciI6ICJBTEwiLCAic2ltdWxhdGlvbkJlaGF2aW9yIjogImRlZmF1bHQiLCAiaW5zdGFsbG1lbnRDcml0ZXJpYSI6ICJNQVhfV0lUSE9VVF9JTlRFUkVTVCIsICJwcm9kdWN0T3JpZ2luVnRleCI6IGZhbHNlLCAibWFwIjogImMiLCAicXVlcnkiOiAibWVkaWNhbWVudG9zIiwgIm9yZGVyQnkiOiAiT3JkZXJCeVNjb3JlREVTQyIsICJmcm9tIjogMCwgInRvIjogMTEsICJzZWxlY3RlZEZhY2V0cyI6IFt7ImtleSI6ICJjIiwgInZhbHVlIjogIm1lZGljYW1lbnRvcyJ9XSwgIm9wZXJhdG9yIjogImFuZCIsICJmdXp6eSI6ICIwIiwgInNlYXJjaFN0YXRlIjogbnVsbCwgImZhY2V0c0JlaGF2aW9yIjogIlN0YXRpYyIsICJjYXRlZ29yeVRyZWVCZWhhdmlvciI6ICJkZWZhdWx0IiwgIndpdGhGYWNldHMiOiBmYWxzZX0=\n",
      "eyJoaWRlVW5hdmFpbGFibGVJdGVtcyI6IGZhbHNlLCAic2t1c0ZpbHRlciI6ICJBTEwiLCAic2ltdWxhdGlvbkJlaGF2aW9yIjogImRlZmF1bHQiLCAiaW5zdGFsbG1lbnRDcml0ZXJpYSI6ICJNQVhfV0lUSE9VVF9JTlRFUkVTVCIsICJwcm9kdWN0T3JpZ2luVnRleCI6IGZhbHNlLCAibWFwIjogImMiLCAicXVlcnkiOiAibWVkaWNhbWVudG9zIiwgIm9yZGVyQnkiOiAiT3JkZXJCeVNjb3JlREVTQyIsICJmcm9tIjogMjQsICJ0byI6IDM1LCAic2VsZWN0ZWRGYWNldHMiOiBbeyJrZXkiOiAiYyIsICJ2YWx1ZSI6ICJtZWRpY2FtZW50b3MifV0sICJvcGVyYXRvciI6ICJhbmQiLCAiZnV6enkiOiAiMCIsICJzZWFyY2hTdGF0ZSI6IG51bGwsICJmYWNldHNCZWhhdmlvciI6ICJTdGF0aWMiLCAiY2F0ZWdvcnlUcmVlQmVoYXZpb3IiOiAiZGVmYXVsdCIsICJ3aXRoRmFjZXRzIjogZmFsc2V9\n"
     ]
    }
   ],
   "source": [
    "decoded_json = decode_from_base64(\"eyJoaWRlVW5hdmFpbGFibGVJdGVtcyI6ZmFsc2UsInNrdXNGaWx0ZXIiOiJBTEwiLCJzaW11bGF0aW9uQmVoYXZpb3IiOiJkZWZhdWx0IiwiaW5zdGFsbG1lbnRDcml0ZXJpYSI6Ik1BWF9XSVRIT1VUX0lOVEVSRVNUIiwicHJvZHVjdE9yaWdpblZ0ZXgiOmZhbHNlLCJtYXAiOiJjIiwicXVlcnkiOiJtZWRpY2FtZW50b3MiLCJvcmRlckJ5IjoiT3JkZXJCeVNjb3JlREVTQyIsImZyb20iOjAsInRvIjoxMSwic2VsZWN0ZWRGYWNldHMiOlt7ImtleSI6ImMiLCJ2YWx1ZSI6Im1lZGljYW1lbnRvcyJ9XSwib3BlcmF0b3IiOiJhbmQiLCJmdXp6eSI6IjAiLCJzZWFyY2hTdGF0ZSI6bnVsbCwiZmFjZXRzQmVoYXZpb3IiOiJTdGF0aWMiLCJjYXRlZ29yeVRyZWVCZWhhdmlvciI6ImRlZmF1bHQiLCJ3aXRoRmFjZXRzIjpmYWxzZX0=\")\n",
    "print(json.dumps(decoded_json, indent=4))\n",
    "print(encode_to_base64(decoded_json))\n",
    "decoded_json = decode_from_base64(\"eyJoaWRlVW5hdmFpbGFibGVJdGVtcyI6ZmFsc2UsInNrdXNGaWx0ZXIiOiJBTEwiLCJzaW11bGF0aW9uQmVoYXZpb3IiOiJkZWZhdWx0IiwiaW5zdGFsbG1lbnRDcml0ZXJpYSI6Ik1BWF9XSVRIT1VUX0lOVEVSRVNUIiwicHJvZHVjdE9yaWdpblZ0ZXgiOmZhbHNlLCJtYXAiOiJjIiwicXVlcnkiOiJtZWRpY2FtZW50b3MiLCJvcmRlckJ5IjoiT3JkZXJCeVNjb3JlREVTQyIsImZyb20iOjI0LCJ0byI6MzUsInNlbGVjdGVkRmFjZXRzIjpbeyJrZXkiOiJjIiwidmFsdWUiOiJtZWRpY2FtZW50b3MifV0sIm9wZXJhdG9yIjoiYW5kIiwiZnV6enkiOiIwIiwic2VhcmNoU3RhdGUiOm51bGwsImZhY2V0c0JlaGF2aW9yIjoiU3RhdGljIiwiY2F0ZWdvcnlUcmVlQmVoYXZpb3IiOiJkZWZhdWx0Iiwid2l0aEZhY2V0cyI6ZmFsc2V9=\")\n",
    "print(json.dumps(decoded_json, indent=4))\n",
    "print(encode_to_base64(decoded_json))"
   ]
  },
  {
   "cell_type": "code",
   "execution_count": 40,
   "metadata": {},
   "outputs": [
    {
     "name": "stdout",
     "output_type": "stream",
     "text": [
      "{'hideUnavailableItems': False, 'skusFilter': 'ALL', 'simulationBehavior': 'default', 'installmentCriteria': 'MAX_WITHOUT_INTEREST', 'productOriginVtex': False, 'map': 'c', 'query': 'medicamentos', 'orderBy': 'OrderByScoreDESC', 'from': 0, 'to': 11, 'selectedFacets': [{'key': 'c', 'value': 'medicamentos'}], 'operator': 'and', 'fuzzy': '0', 'searchState': None, 'facetsBehavior': 'Static', 'categoryTreeBehavior': 'default', 'withFacets': False}\n",
      "{'hideUnavailableItems': False, 'skusFilter': 'ALL', 'simulationBehavior': 'default', 'installmentCriteria': 'MAX_WITHOUT_INTEREST', 'productOriginVtex': False, 'map': 'c', 'query': 'medicamentos', 'orderBy': 'OrderByScoreDESC', 'from': 24, 'to': 35, 'selectedFacets': [{'key': 'c', 'value': 'medicamentos'}], 'operator': 'and', 'fuzzy': '0', 'searchState': None, 'facetsBehavior': 'Static', 'categoryTreeBehavior': 'default', 'withFacets': False}\n"
     ]
    }
   ],
   "source": [
    "# Your Base64-encoded strings\n",
    "base64_encoded_1 = \"eyJoaWRlVW5hdmFpbGFibGVJdGVtcyI6ZmFsc2UsInNrdXNGaWx0ZXIiOiJBTEwiLCJzaW11bGF0aW9uQmVoYXZpb3IiOiJkZWZhdWx0IiwiaW5zdGFsbG1lbnRDcml0ZXJpYSI6Ik1BWF9XSVRIT1VUX0lOVEVSRVNUIiwicHJvZHVjdE9yaWdpblZ0ZXgiOmZhbHNlLCJtYXAiOiJjIiwicXVlcnkiOiJtZWRpY2FtZW50b3MiLCJvcmRlckJ5IjoiT3JkZXJCeVNjb3JlREVTQyIsImZyb20iOjAsInRvIjoxMSwic2VsZWN0ZWRGYWNldHMiOlt7ImtleSI6ImMiLCJ2YWx1ZSI6Im1lZGljYW1lbnRvcyJ9XSwib3BlcmF0b3IiOiJhbmQiLCJmdXp6eSI6IjAiLCJzZWFyY2hTdGF0ZSI6bnVsbCwiZmFjZXRzQmVoYXZpb3IiOiJTdGF0aWMiLCJjYXRlZ29yeVRyZWVCZWhhdmlvciI6ImRlZmF1bHQiLCJ3aXRoRmFjZXRzIjpmYWxzZX0=\"  # First string\n",
    "base64_encoded_2 = \"eyJoaWRlVW5hdmFpbGFibGVJdGVtcyI6ZmFsc2UsInNrdXNGaWx0ZXIiOiJBTEwiLCJzaW11bGF0aW9uQmVoYXZpb3IiOiJkZWZhdWx0IiwiaW5zdGFsbG1lbnRDcml0ZXJpYSI6Ik1BWF9XSVRIT1VUX0lOVEVSRVNUIiwicHJvZHVjdE9yaWdpblZ0ZXgiOmZhbHNlLCJtYXAiOiJjIiwicXVlcnkiOiJtZWRpY2FtZW50b3MiLCJvcmRlckJ5IjoiT3JkZXJCeVNjb3JlREVTQyIsImZyb20iOjI0LCJ0byI6MzUsInNlbGVjdGVkRmFjZXRzIjpbeyJrZXkiOiJjIiwidmFsdWUiOiJtZWRpY2FtZW50b3MifV0sIm9wZXJhdG9yIjoiYW5kIiwiZnV6enkiOiIwIiwic2VhcmNoU3RhdGUiOm51bGwsImZhY2V0c0JlaGF2aW9yIjoiU3RhdGljIiwiY2F0ZWdvcnlUcmVlQmVoYXZpb3IiOiJkZWZhdWx0Iiwid2l0aEZhY2V0cyI6ZmFsc2V9=\"  # Second string\n",
    "\n",
    "# Decode the Base64-encoded strings\n",
    "json_string_1 = base64.b64decode(base64_encoded_1).decode()\n",
    "json_string_2 = base64.b64decode(base64_encoded_2).decode()\n",
    "\n",
    "# Parse the JSON strings\n",
    "decoded_json_1 = json.loads(json_string_1)\n",
    "decoded_json_2 = json.loads(json_string_2)\n",
    "\n",
    "# Print or analyze the decoded JSON structures\n",
    "print(decoded_json_1)\n",
    "print(decoded_json_2)"
   ]
  },
  {
   "cell_type": "code",
   "execution_count": 7,
   "metadata": {},
   "outputs": [
    {
     "name": "stdout",
     "output_type": "stream",
     "text": [
      "https://www.drogariarosario.com.br/_v/segment/graphql/v1?workspace=master&maxAge=short&appsEtag=remove&domain=store&locale=pt-BR&__bindingId=c5669231-148f-4d2b-998d-33e2e1e6fba0&operationName=productSearchV3&variables=%7B%7D&extensions=%7B%22persistedQuery%22%3A%7B%22version%22%3A1%2C%22sha256Hash%22%3A%2240b843ca1f7934d20d05d334916220a0c2cae3833d9f17bcb79cdd2185adceac%22%2C%22sender%22%3A%22vtex.store-resources%400.x%22%2C%22provider%22%3A%22vtex.search-graphql%400.x%22%7D%2C%22variables%22%3A%22eyJoaWRlVW5hdmFpbGFibGVJdGVtcyI6IGZhbHNlLCAic2t1c0ZpbHRlciI6ICJBTEwiLCAic2ltdWxhdGlvbkJlaGF2aW9yIjogImRlZmF1bHQiLCAiaW5zdGFsbG1lbnRDcml0ZXJpYSI6ICJNQVhfV0lUSE9VVF9JTlRFUkVTVCIsICJwcm9kdWN0T3JpZ2luVnRleCI6IGZhbHNlLCAibWFwIjogImMiLCAicXVlcnkiOiAibWVkaWNhbWVudG9zIiwgIm9yZGVyQnkiOiAiT3JkZXJCeVNjb3JlREVTQyIsICJmcm9tIjogMCwgInRvIjogMTQ5LCAic2VsZWN0ZWRGYWNldHMiOiBbeyJrZXkiOiAiYyIsICJ2YWx1ZSI6ICJtZWRpY2FtZW50b3MifV0sICJvcGVyYXRvciI6ICJhbmQiLCAiZnV6enkiOiAiMCIsICJzaXplIjogMTUwLCAic2VhcmNoU3RhdGUiOiBudWxsLCAiZmFjZXRzQmVoYXZpb3IiOiAiU3RhdGljIiwgImNhdGVnb3J5VHJlZUJlaGF2aW9yIjogImRlZmF1bHQiLCAid2l0aEZhY2V0cyI6IGZhbHNlfQ==%3D%22%7D\n"
     ]
    }
   ],
   "source": [
    "import requests\n",
    "\n",
    "qtd = 100\n",
    "\n",
    "teste = {\n",
    "    \"hideUnavailableItems\": False,\n",
    "    \"skusFilter\": \"ALL\",\n",
    "    \"simulationBehavior\": \"default\",\n",
    "    \"installmentCriteria\": \"MAX_WITHOUT_INTEREST\",\n",
    "    \"productOriginVtex\": False,\n",
    "    \"map\": \"c\",\n",
    "    \"query\": \"medicamentos\",\n",
    "    \"orderBy\": \"OrderByScoreDESC\",\n",
    "    \"from\": 0,\n",
    "    \"to\": 99,\n",
    "    \"selectedFacets\": [\n",
    "        {\n",
    "            \"key\": \"c\",\n",
    "            \"value\": \"medicamentos\"\n",
    "        }\n",
    "    ],\n",
    "    \"operator\": \"and\",\n",
    "    \"fuzzy\": \"0\",\n",
    "    \"size\" : 100,\n",
    "    \"searchState\": None,\n",
    "    \"facetsBehavior\": \"Static\",\n",
    "    \"categoryTreeBehavior\": \"default\",\n",
    "    \"withFacets\": False\n",
    "}\n",
    "\n",
    "stringl = f\"https://www.drogariarosario.com.br/_v/segment/graphql/v1?workspace=master&maxAge=short&appsEtag=remove&domain=store&locale=pt-BR&__bindingId=c5669231-148f-4d2b-998d-33e2e1e6fba0&operationName=productSearchV3&variables=%7B%7D&extensions=%7B%22persistedQuery%22%3A%7B%22version%22%3A1%2C%22sha256Hash%22%3A%2240b843ca1f7934d20d05d334916220a0c2cae3833d9f17bcb79cdd2185adceac%22%2C%22sender%22%3A%22vtex.store-resources%400.x%22%2C%22provider%22%3A%22vtex.search-graphql%400.x%22%7D%2C%22variables%22%3A%22{(encode_to_base64(teste))}%3D%22%7D\"\n",
    "\n",
    "# payload = {}\n",
    "# headers = {\n",
    "#   'Cookie': 'janus_sid=a339ac30-913e-4abe-a81a-f3ae40fc5b97'\n",
    "# }\n",
    "\n",
    "# response = requests.request(\"GET\", stringl, headers=headers, data=payload)\n",
    "\n",
    "# print(response.text)\n",
    "\n",
    "print(stringl)\n",
    "\n"
   ]
  },
  {
   "cell_type": "code",
   "execution_count": null,
   "metadata": {},
   "outputs": [],
   "source": [
    "\"eyJoaWRlVW5hdmFpbGFibGVJdGVtcyI6ZmFsc2UsInNrdXNGaWx0ZXIiOiJBTEwiLCJzaW11bGF0aW9uQmVoYXZpb3IiOiJkZWZhdWx0IiwiaW5zdGFsbG1lbnRDcml0ZXJpYSI6Ik1BWF9XSVRIT1VUX0lOVEVSRVNUIiwicHJvZHVjdE9yaWdpblZ0ZXgiOmZhbHNlLCJtYXAiOiJjIiwicXVlcnkiOiJtZWRpY2FtZW50b3MiLCJvcmRlckJ5IjoiT3JkZXJCeVNjb3JlREVTQyIsImZyb20iOjEyLCJ0byI6MjMsInNlbGVjdGVkRmFjZXRzIjpbeyJrZXkiOiJjIiwidmFsdWUiOiJtZWRpY2FtZW50b3MifV0sIm9wZXJhdG9yIjoiYW5kIiwiZnV6enkiOiIwIiwic2VhcmNoU3RhdGUiOm51bGwsImZhY2V0c0JlaGF2aW9yIjoiU3RhdGljIiwiY2F0ZWdvcnlUcmVlQmVoYXZpb3IiOiJkZWZhdWx0Iiwid2l0aEZhY2V0cyI6ZmFsc2V9\""
   ]
  }
 ],
 "metadata": {
  "kernelspec": {
   "display_name": "Python 3",
   "language": "python",
   "name": "python3"
  },
  "language_info": {
   "codemirror_mode": {
    "name": "ipython",
    "version": 3
   },
   "file_extension": ".py",
   "mimetype": "text/x-python",
   "name": "python",
   "nbconvert_exporter": "python",
   "pygments_lexer": "ipython3",
   "version": "3.11.7"
  }
 },
 "nbformat": 4,
 "nbformat_minor": 2
}
