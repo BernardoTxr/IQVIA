{
 "cells": [
  {
   "cell_type": "code",
   "execution_count": 2,
   "metadata": {},
   "outputs": [],
   "source": [
    "# Suppress DeprecationWarning\n",
    "import warnings\n",
    "warnings.filterwarnings(\"ignore\", category=DeprecationWarning)\n",
    "\n",
    "import pandas as pd\n",
    "from bs4 import BeautifulSoup\n",
    "from concurrent.futures import ThreadPoolExecutor\n",
    "\n",
    "from playwright.async_api import async_playwright\n",
    "import asyncio\n",
    "\n",
    "import requests\n",
    "import re\n",
    "import json\n",
    "import os\n",
    "import time\n",
    "import math"
   ]
  },
  {
   "cell_type": "code",
   "execution_count": 3,
   "metadata": {},
   "outputs": [],
   "source": [
    "with open('page_html.txt', 'r') as file:\n",
    "    html = file.read()\n",
    "soup = BeautifulSoup(html, 'html.parser')\n"
   ]
  },
  {
   "cell_type": "code",
   "execution_count": 4,
   "metadata": {},
   "outputs": [
    {
     "name": "stdout",
     "output_type": "stream",
     "text": [
      "Quantidade de marcas 794\n"
     ]
    }
   ],
   "source": [
    "def get_brands(url, category, soup):\n",
    "    #html = await access_page_and_roll_container(url)\n",
    "    #with open('Drogaria Coop/page_html.txt', 'w', encoding='utf-8') as file:\n",
    "    #        file.write(html)\n",
    "    #soup = BeautifulSoup(html, 'html.parser')\n",
    "    brand_container_content = soup.find_all('div', class_='vtex-search-result-3-x-filterContent')[0]\n",
    "    brand_content = brand_container_content.find_all('div', alt=True)\n",
    "    brands = []\n",
    "    for brand_code in brand_content:\n",
    "        brand = re.search(r'x-filterItem--(.*?) lh-copy', str(brand_code)).group(1)\n",
    "        brands.append(brand)\n",
    "    return brands\n",
    "\n",
    "categories = ['perfumaria']\n",
    "categories_brands = {}\n",
    "for category in categories:\n",
    "        url_category = f'https://www.farmadelivery.com.br/{category}'\n",
    "        brands_list = get_brands(url_category, category, soup)\n",
    "\n",
    "\n",
    "print(f'Quantidade de marcas {len(brands_list)}')"
   ]
  },
  {
   "cell_type": "code",
   "execution_count": null,
   "metadata": {},
   "outputs": [],
   "source": [
    "links = []\n",
    "for category in categories_brands:\n",
    "    print(category)\n",
    "    for i in range(0, min(10, len(categories_brands[category]))):  # Iterate over the first 10 items or fewer\n",
    "        brand1 = categories_brands[category][i]\n",
    "        categoryy = category.lower()\n",
    "        url = f'https://www.farmadelivery.com.br/{categoryy}/{brand1}?initialMap=c&initialQuery={categoryy}&map=category-1,brand&page=1'\n",
    "        links.append(url)\n",
    "\n",
    "for category in categories_brands:\n",
    "        for i in range(10, min(30, len(categories_brands[category])), 3):  # Step by 3 to select 3 brands at a time\n",
    "            brand1 = categories_brands[category][i]\n",
    "            brand2 = categories_brands[category][i + 1] if i + 1 < len(categories_brands[category]) else ''\n",
    "            brand3 = categories_brands[category][i + 2] if i + 2 < len(categories_brands[category]) else ''\n",
    "            categoryy = category.lower()\n",
    "            url = f'https://www.farmadelivery.com.br/{categoryy}/{brand1}/{brand2}/{brand3}?initialMap=c&initialQuery={categoryy}&map=category-1,{'brand,'*2}brand&page=1'\n",
    "            links.append(url)\n",
    "\n",
    "for category in categories_brands:\n",
    "        for i in range(40, min(50, len(categories_brands[category])), 6):  # Step by 3 to select 3 brands at a time\n",
    "            brand1 = categories_brands[category][i]\n",
    "            brand2 = categories_brands[category][i + 1] if i + 1 < len(categories_brands[category]) else ''\n",
    "            brand3 = categories_brands[category][i + 2] if i + 2 < len(categories_brands[category]) else ''\n",
    "            brand4 = categories_brands[category][i + 3] if i + 3 < len(categories_brands[category]) else ''\n",
    "            brand5 = categories_brands[category][i + 4] if i + 4 < len(categories_brands[category]) else ''\n",
    "            brand6 = categories_brands[category][i + 6] if i + 6 < len(categories_brands[category]) else ''\n",
    "            categoryy = category.lower()\n",
    "            url = f'https://www.farmadelivery.com.br/{categoryy}/{brand1}/{brand2}/{brand3}?initialMap=c&initialQuery={categoryy}&map=category-1,{'brand,'*2}brand&page=1'\n",
    "            links.append(url)"
   ]
  },
  {
   "cell_type": "code",
   "execution_count": null,
   "metadata": {},
   "outputs": [],
   "source": []
  },
  {
   "cell_type": "code",
   "execution_count": null,
   "metadata": {},
   "outputs": [],
   "source": [
    "# url com 3 marcas filtrando em medicamentos\n",
    "# https://www.farmadelivery.com.br/remedios-e-medicamentos/ache/ems-generico/eurofarma?initialMap=c&initialQuery=remedios-e-medicamentos&map=category-1,brand,brand,brand"
   ]
  },
  {
   "cell_type": "code",
   "execution_count": 10,
   "metadata": {},
   "outputs": [
    {
     "data": {
      "text/plain": [
       "['https://www.farmadelivery.com.br/off-family-repelente-locao-com-aloe-vera-200ml-66446/p',\n",
       " 'https://www.farmadelivery.com.br/repelente-off-family-locao-com-aloe-vera-100ml-28032670/p',\n",
       " 'https://www.farmadelivery.com.br/repelente-off-kids-locao-infantil-200ml-27967879/p',\n",
       " 'https://www.farmadelivery.com.br/lakesia-duo-esmalte-fortalecedor-vinho-jabuticaba-9ml-28051408/p',\n",
       " 'https://www.farmadelivery.com.br/soro-fisiologico-lbs-500ml-35206/p',\n",
       " 'https://www.farmadelivery.com.br/nivea-uniformizador-facial-cellular-luminous-630-antiolheiras-15ml-28051739/p',\n",
       " 'https://www.farmadelivery.com.br/esmalte-dailus-devendo-e-luxando-cremoso--a-mae-ta-estourada-28051447/p',\n",
       " 'https://www.farmadelivery.com.br/condicionador-johnsons-baby-regular-200ml-2075/p']"
      ]
     },
     "execution_count": 10,
     "metadata": {},
     "output_type": "execute_result"
    }
   ],
   "source": [
    "# PRECISA ARRUMAR O SCROLL NO CODIGO DE SCRAPPING PARA FAZER 3 PARADAS\n",
    "products_container = soup.find('div', class_='vtex-search-result-3-x-gallery vtex-search-result-3-x-gallery--grid flex flex-row flex-wrap items-stretch bn ph1 na4 pl9-l')\n",
    "products_content = products_container.find_all('a')\n",
    "products_extensions_page = []\n",
    "for product_code in products_content:\n",
    "    href = re.search(r'href=\"(.*?)\"', str(product_code)).group(1)\n",
    "    products_extensions_page.append(href)\n",
    "\n",
    "products_links = ['https://www.farmadelivery.com.br'+extension for extension in products_extensions_page]\n",
    "products_links\n"
   ]
  },
  {
   "cell_type": "code",
   "execution_count": null,
   "metadata": {},
   "outputs": [],
   "source": []
  }
 ],
 "metadata": {
  "kernelspec": {
   "display_name": "Python 3",
   "language": "python",
   "name": "python3"
  },
  "language_info": {
   "codemirror_mode": {
    "name": "ipython",
    "version": 3
   },
   "file_extension": ".py",
   "mimetype": "text/x-python",
   "name": "python",
   "nbconvert_exporter": "python",
   "pygments_lexer": "ipython3",
   "version": "3.12.0"
  }
 },
 "nbformat": 4,
 "nbformat_minor": 2
}
