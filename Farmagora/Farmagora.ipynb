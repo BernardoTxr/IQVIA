{
 "cells": [
  {
   "cell_type": "code",
   "execution_count": 1,
   "metadata": {},
   "outputs": [],
   "source": [
    "import requests\n",
    "from bs4 import BeautifulSoup\n",
    "import json\n",
    "import re\n",
    "from concurrent.futures import ThreadPoolExecutor\n",
    "import os\n",
    "import pandas as pd\n",
    "from tqdm import tqdm\n",
    "\n",
    "workers = os.cpu_count()\n",
    "\n",
    "headers = {\n",
    "    \"authority\": \"www.farmagora.com.br\",\n",
    "    \"accept\": \"*/*\",\n",
    "    \"accept-language\": \"pt-BR,pt;q=0.9,en-US;q=0.8,en;q=0.7\",\n",
    "    \"referer\": \"https://www.farmagora.com.br/\",\n",
    "    \"user-agent\": \"Mozilla/5.0 (Windows NT 10.0; Win64; x64) AppleWebKit/537.36 (KHTML, like Gecko) Chrome/121.0.0.0 Safari/537.36\",\n",
    "}"
   ]
  },
  {
   "cell_type": "markdown",
   "metadata": {},
   "source": [
    "### Extraindo o link da API dos produtos"
   ]
  },
  {
   "cell_type": "code",
   "execution_count": null,
   "metadata": {},
   "outputs": [],
   "source": [
    "blocos = ['medicamentos', 'saude-e-bem-estar', 'dermocosmeticos', 'mamae-e-bebe', 'higiene', 'primeiros-socorros', 'dieta-e-suplemento', 'aparelhos', 'perfumes', 'conveniencia']\n",
    "categorias = []\n",
    "for bloco in blocos:\n",
    "    url = f'https://www.farmagora.com.br/{bloco}?lid=e9f374f7-7fb9-4504-b671-e95f400118cf'\n",
    "    response = requests.get(url)\n",
    "    soup = BeautifulSoup(response.content, 'html.parser')\n",
    "    for h4_tag in soup.find_all('h4', class_=f'{bloco}'):\n",
    "        category_name = h4_tag.text.strip()\n",
    "        category_url = h4_tag.a['href']\n",
    "\n",
    "        categorias.append({\"Categoria\": category_name, \"URL\": category_url})"
   ]
  },
  {
   "cell_type": "code",
   "execution_count": null,
   "metadata": {},
   "outputs": [],
   "source": [
    "blocos_formatados = [\n",
    "    'Medicamentos',\n",
    "    'Saúde e bem estar',\n",
    "    'Dermocosméticos',\n",
    "    'Mamãe e bebê',\n",
    "    'Higiene',\n",
    "    'Primeiros socorros',\n",
    "    'Dieta e suplemento',\n",
    "    'Aparelhos',\n",
    "    'Perfumes',\n",
    "    'Conveniência']\n",
    "\n",
    "categorias_filtradas = [categoria for categoria in categorias if categoria['Categoria'] not in blocos_formatados]\n",
    "\n",
    "# Criar DataFrame\n",
    "df_categorias = pd.DataFrame(categorias_filtradas)\n",
    "\n",
    "df_categorias"
   ]
  },
  {
   "cell_type": "code",
   "execution_count": null,
   "metadata": {},
   "outputs": [],
   "source": [
    "ids = []\n",
    "\n",
    "for url in df_categorias['URL']:\n",
    "    response = requests.get(url)\n",
    "    if response.status_code == 200:\n",
    "        soup = BeautifulSoup(response.text, 'html.parser')\n",
    "        script_content = soup.find('script', string=re.compile('vtxctx'))\n",
    "        if script_content:\n",
    "            match = re.search(r'vtxctx = ({.*?});', script_content.string)\n",
    "            if match:\n",
    "                json_content = match.group(1)\n",
    "\n",
    "                # Analisar o JSON para um dicionário Python\n",
    "                data = json.loads(json_content)\n",
    "\n",
    "                department_id = data.get('departmentyId', None)\n",
    "                category_id = data.get('categoryId', None)\n",
    "\n",
    "                ids.append({\"URL\": url, \"Department ID\": department_id, \"Category ID\": category_id})\n",
    "            else:\n",
    "                print(f\"Padrão não encontrado no script da URL: {url}\")\n",
    "        else:\n",
    "            print(f\"Script não encontrado na URL: {url}\")\n",
    "    else:\n",
    "        print(f\"Erro na requisição. Código de status: {response.status_code}\")\n",
    "\n",
    "df_ids = pd.DataFrame(ids)"
   ]
  },
  {
   "cell_type": "code",
   "execution_count": null,
   "metadata": {},
   "outputs": [],
   "source": [
    "links_produtos = []\n",
    "\n",
    "for id in lista_ids:\n",
    "    department_id = id['Department ID']\n",
    "    category_id = id['Category ID']\n",
    "\n",
    "    page = 1\n",
    "    while page <= 50:  # Defina um limite para evitar loops infinitos\n",
    "        url = f'https://www.farmagora.com.br/buscapagina?fq=C:/{department_id}/{category_id}/&PS=24&sl=ba7aedf8-c57e-44a0-ba5c-83285d3577a3&cc=24&sm=0&PageNumber={page}&O=OrderByTopSaleDESC'\n",
    "        response = requests.get(url, headers=headers)\n",
    "\n",
    "        # Verifica se a requisição foi bem-sucedida\n",
    "        if response.status_code == 200 or response.status_code == 206:\n",
    "            # Parseia o conteúdo HTML\n",
    "            soup = BeautifulSoup(response.text, 'html.parser')\n",
    "\n",
    "            # Encontrar os data-product-ids\n",
    "            product_links = soup.select('.product-item__title a')\n",
    "            if not product_links:\n",
    "                break  # Sai do loop se não houver mais produtos\n",
    "\n",
    "            for link in product_links:\n",
    "                product_href = link['href'].split('/')[-2]\n",
    "                links_produtos.append(product_href)\n",
    "            # Aumenta o número da página\n",
    "            print(category_id, page)\n",
    "            page += 1\n",
    "        else:\n",
    "            print(f\"Erro na requisição. Código de status: {response.status_code}\")\n",
    "            break  # Sai do loop em caso de erro\n",
    "\n",
    "lista_href = list(set(links_produtos))\n",
    "df_links = pd.DataFrame(lista_href)\n",
    "df_links.to_csv('df_links.csv')"
   ]
  },
  {
   "cell_type": "markdown",
   "metadata": {},
   "source": [
    "### Extraindo as informações"
   ]
  },
  {
   "cell_type": "code",
   "execution_count": 8,
   "metadata": {},
   "outputs": [],
   "source": [
    "df_links = pd.read_csv('df_links.csv', index_col=0)  # Use index_col=0 para usar a primeira coluna como índice\n",
    "df_links.columns = ['href']\n"
   ]
  },
  {
   "cell_type": "code",
   "execution_count": 9,
   "metadata": {},
   "outputs": [
    {
     "name": "stderr",
     "output_type": "stream",
     "text": [
      "  4%|▍         | 525/12779 [00:59<55:06,  3.71it/s]  "
     ]
    },
    {
     "name": "stdout",
     "output_type": "stream",
     "text": [
      "Nenhum produto encontrado para barra-bold-thin-40gr-caramelo-<->-<->-amendoim\n"
     ]
    },
    {
     "name": "stderr",
     "output_type": "stream",
     "text": [
      " 17%|█▋        | 2112/12779 [06:01<29:23,  6.05it/s]  "
     ]
    },
    {
     "name": "stdout",
     "output_type": "stream",
     "text": [
      "Nenhum produto encontrado para creme-dental-sensodyne-com-2x100gr-repair-<->-<->-protect\n"
     ]
    },
    {
     "name": "stderr",
     "output_type": "stream",
     "text": [
      " 36%|███▌      | 4599/12779 [13:51<25:40,  5.31it/s]  "
     ]
    },
    {
     "name": "stdout",
     "output_type": "stream",
     "text": [
      "Erro ao processar provance-morango-com-30-comprimidos: ('Connection aborted.', ConnectionResetError(10054, 'Foi forçado o cancelamento de uma conexão existente pelo host remoto', None, 10054, None))\n"
     ]
    },
    {
     "name": "stderr",
     "output_type": "stream",
     "text": [
      " 54%|█████▍    | 6946/12779 [21:23<19:35,  4.96it/s]  "
     ]
    },
    {
     "name": "stdout",
     "output_type": "stream",
     "text": [
      "Nenhum produto encontrado para creme-depilatorio-veet-para-banho-pure-<->-<->-fresh-150ml-peles--delicadas\n"
     ]
    },
    {
     "name": "stderr",
     "output_type": "stream",
     "text": [
      " 63%|██████▎   | 8085/12779 [24:48<15:59,  4.89it/s]"
     ]
    },
    {
     "name": "stdout",
     "output_type": "stream",
     "text": [
      "Nenhum produto encontrado para naturnes-banana-120g\n"
     ]
    },
    {
     "name": "stderr",
     "output_type": "stream",
     "text": [
      " 64%|██████▍   | 8226/12779 [25:13<14:26,  5.26it/s]"
     ]
    },
    {
     "name": "stdout",
     "output_type": "stream",
     "text": [
      "Nenhum produto encontrado para sabonete-protex-liquido-intimo-200ml-calm-<->-<->-protect-especial\n"
     ]
    },
    {
     "name": "stderr",
     "output_type": "stream",
     "text": [
      " 76%|███████▋  | 9758/12779 [29:58<10:55,  4.61it/s]"
     ]
    },
    {
     "name": "stdout",
     "output_type": "stream",
     "text": [
      "Nenhum produto encontrado para miosan-caf-5-30mg-com-15-comprimidos\n"
     ]
    },
    {
     "name": "stderr",
     "output_type": "stream",
     "text": [
      " 98%|█████████▊| 12541/12779 [38:25<00:51,  4.64it/s]"
     ]
    },
    {
     "name": "stdout",
     "output_type": "stream",
     "text": [
      "Nenhum produto encontrado para des-nivea-masc-200ml-aero-b<->-<->w-invisible\n"
     ]
    },
    {
     "name": "stderr",
     "output_type": "stream",
     "text": [
      "100%|█████████▉| 12771/12779 [39:05<00:01,  5.45it/s]\n"
     ]
    }
   ],
   "source": [
    "def extrair_infos(href):\n",
    "    try:\n",
    "        api_url = f'https://www.farmagora.com.br/api/catalog_system/pub/products/search/{href}/p'\n",
    "        response = requests.get(api_url, headers=headers)\n",
    "        if response.status_code == 200:\n",
    "            product_data_list = response.json()\n",
    "            produtos = []\n",
    "\n",
    "            for product_data in product_data_list:\n",
    "                nome = product_data.get('productName', '')\n",
    "                ean = product_data.get('items', [{}])[0].get('ean', '')\n",
    "                marca = product_data.get('brand', '')\n",
    "                \n",
    "                descricao_raw = product_data.get('description', '')\n",
    "                soup = BeautifulSoup(descricao_raw, 'html.parser')\n",
    "                descricao_ = soup.get_text(separator=' ', strip=True)\n",
    "                descricao = limpar_texto(descricao_)\n",
    "\n",
    "                preco_s = product_data.get('items', [{}])[0].get('sellers', [{}])[0].get('commertialOffer', {}).get('ListPrice', 0.0)\n",
    "                preco_c = product_data.get('items', [{}])[0].get('sellers', [{}])[0].get('commertialOffer', {}).get('Price', 0.0)\n",
    "                porcentagem = round(100 * (1 - (preco_c / preco_s))) if preco_s > 0 else 0.0\n",
    "\n",
    "                # Construir o dicionário com as informações e adicionar à lista\n",
    "                info = {\n",
    "                    'Produto': nome,\n",
    "                    'EAN': ean,\n",
    "                    'Marca': marca,\n",
    "                    'Descrição': descricao,\n",
    "                    'Preço sem desconto': preco_s,\n",
    "                    'Preço com desconto': preco_c,\n",
    "                    '% de desconto': f'{porcentagem}%',\n",
    "                    'Farmácia': 'Preço Popular',\n",
    "                    'Região': 'Sudeste',\n",
    "                    'Cidade': 'São Paulo'\n",
    "                }\n",
    "                produtos.append(info)\n",
    "                pbar.update(1)\n",
    "\n",
    "            return produtos\n",
    "\n",
    "        print(f\"Nenhum produto encontrado para {href}\")\n",
    "        return None\n",
    "    except Exception as e:\n",
    "        print(f\"Erro ao processar {href}: {str(e)}\")\n",
    "        return None\n",
    "    \n",
    "def limpar_texto(texto):\n",
    "    # Substituir caracteres especiais de pontuação por espaços\n",
    "    texto = re.sub(r'[^\\w\\s.,;:!?()\\[\\]{}-]', ' ', texto)\n",
    "    # Substituir espaços múltiplos por um único espaço\n",
    "    texto = re.sub(r'\\s+', ' ', texto)\n",
    "    return texto.strip()\n",
    "\n",
    "# Criar uma lista para armazenar os resultados\n",
    "infos = []\n",
    "\n",
    "# Inicializar o tqdm\n",
    "with tqdm(total=len(df_links)) as pbar:\n",
    "    with ThreadPoolExecutor(max_workers=workers) as executor:\n",
    "        # Usar o método map corretamente\n",
    "        results = executor.map(extrair_infos, df_links['href'])\n",
    "        \n",
    "        # Filtrar resultados para remover valores nulos\n",
    "        infos = [info for info in results if info is not None]\n",
    "\n",
    "# Converter a lista de dicionários em um DataFrame do pandas\n",
    "df_infos = pd.DataFrame([item[0] for item in infos])\n",
    "df_infos.to_csv('df_infos.csv', index=False)"
   ]
  }
 ],
 "metadata": {
  "kernelspec": {
   "display_name": "Python 3",
   "language": "python",
   "name": "python3"
  },
  "language_info": {
   "codemirror_mode": {
    "name": "ipython",
    "version": 3
   },
   "file_extension": ".py",
   "mimetype": "text/x-python",
   "name": "python",
   "nbconvert_exporter": "python",
   "pygments_lexer": "ipython3",
   "version": "3.11.4"
  }
 },
 "nbformat": 4,
 "nbformat_minor": 2
}
