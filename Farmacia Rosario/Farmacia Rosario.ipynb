{
 "cells": [
  {
   "cell_type": "code",
   "execution_count": 1,
   "metadata": {},
   "outputs": [],
   "source": [
    "from selenium import webdriver\n",
    "from selenium.webdriver.common.by import By\n",
    "from selenium.webdriver.support.ui import WebDriverWait\n",
    "from selenium.webdriver.support import expected_conditions as EC\n",
    "from selenium.common.exceptions import StaleElementReferenceException\n",
    "from selenium.common.exceptions import TimeoutException\n",
    "import time\n",
    "import requests\n",
    "import pandas as pd\n",
    "from bs4 import BeautifulSoup\n",
    "from concurrent.futures import ThreadPoolExecutor\n",
    "from tqdm import tqdm\n",
    "import os"
   ]
  },
  {
   "cell_type": "markdown",
   "metadata": {},
   "source": [
    "### Definindo funções comuns"
   ]
  },
  {
   "cell_type": "code",
   "execution_count": 22,
   "metadata": {},
   "outputs": [],
   "source": [
    "headers = {'User-Agent': 'Mozilla/5.0 (Windows NT 10.0; Win64; x64) AppleWebKit/537.36 (KHTML, like Gecko) Chrome/58.0.3029.110 Safari/537.3'}\n",
    "\n",
    "def extrair_links(html, lista):\n",
    "    soup = BeautifulSoup(html, 'html.parser')\n",
    "    produtos = soup.find_all('div', class_='produto')\n",
    "    \n",
    "    for produto in produtos:\n",
    "        link = produto.find('a', href=True)\n",
    "\n",
    "        s_desc = None\n",
    "        c_desc = None\n",
    "        p_desc = None\n",
    "\n",
    "        try:\n",
    "            preco_div = produto.find('div', {'data-target': 'preco-produto'})\n",
    "\n",
    "            if preco_div:\n",
    "                if preco_div.find('p', {'class': 'text-muted small font-weight-semibold'}):  # Caso com desconto\n",
    "                    s_desc_elem = preco_div.find('p', {'class': 'text-muted small font-weight-semibold'})\n",
    "                    c_desc_elem = preco_div.find('span', {'class': 'font-weight-bold font-xl blueText'})\n",
    "                    s_desc = s_desc_elem.text if s_desc_elem else None\n",
    "                    c_desc = c_desc_elem.text if c_desc_elem else None\n",
    "\n",
    "                    p_desc_div = produto.find('div', {'data-target': 'desconto-produto'})\n",
    "                    p_desc_elem = p_desc_div.find('div', {'class': \"desconto-produto font-weight-bold w-100\"})\n",
    "                    p_desc = p_desc_elem.text if p_desc_elem else None\n",
    "\n",
    "                elif preco_div.find('span', {'class': 'font-xl blueText fontOutfitExtraBold'}):  # Caso sem desconto\n",
    "                    s_desc_elem = preco_div.find('span', {'class': 'font-xl blueText fontOutfitExtraBold'})\n",
    "                    s_desc = s_desc_elem.text if s_desc_elem else None\n",
    "                    c_desc = s_desc\n",
    "\n",
    "        except AttributeError as e:\n",
    "            print(f'Erro ao extrair informações do produto {link}: {e}')\n",
    "            \n",
    "        resultado = {'URL': 'https://www.farmaciarosario.com.br' + link['href'], 'Preço sem desconto': s_desc, 'Preço com desconto': c_desc, '% de desconto': p_desc}\n",
    "        \n",
    "        lista.append(resultado)\n",
    "    return lista\n",
    "\n",
    "def extrair_infos(url):\n",
    "    try:\n",
    "        response = requests.get(url, headers=headers)\n",
    "        response.raise_for_status()\n",
    "        soup = BeautifulSoup(response.text, 'html.parser')\n",
    "\n",
    "        nome_elemento = soup.find('h1', {'data-target': 'nome_produto'})\n",
    "        ean_elemento = soup.find('span', class_='text-muted text-descricao-produto fontOutfitRegular')\n",
    "        marca_elemento = soup.find('p', class_='text-muted my-2 font-sm font-08rem mb-3')\n",
    "        descricao_elemento = soup.find('div', {'data-target': 'produto-descricao'})\n",
    "\n",
    "        nome = nome_elemento.get_text(strip=True) if nome_elemento else None\n",
    "        ean_text = ean_elemento.get_text(strip=True) if ean_elemento else None\n",
    "        marca = marca_elemento.find('a').get_text(strip=True) if marca_elemento and marca_elemento.find('a') else None\n",
    "        descricao = descricao_elemento.get_text(strip=True) if descricao_elemento else None\n",
    "\n",
    "        ean = ean_text.split('EAN: ')[1] if ean_text else None\n",
    "\n",
    "        informacoes = {\n",
    "            'Produto': nome,\n",
    "            'EAN': ean,\n",
    "            'Marca': marca,\n",
    "            'Descrição': descricao,\n",
    "        }\n",
    "        return informacoes\n",
    "\n",
    "    except Exception as e:\n",
    "        print(f\"Erro ao processar a URL {url}: {e}\")\n",
    "        return None\n",
    "  \n",
    "def process_url(url):\n",
    "    info = extrair_infos(url)\n",
    "    if info:\n",
    "        return info"
   ]
  },
  {
   "cell_type": "markdown",
   "metadata": {},
   "source": [
    "A primeira aba do código trabalha na extração dos links e preços dos produtos por categorias, e posteriormente acessamos cada link para extrair o restante das informações."
   ]
  },
  {
   "cell_type": "markdown",
   "metadata": {},
   "source": [
    "### Extraindo links"
   ]
  },
  {
   "cell_type": "code",
   "execution_count": 17,
   "metadata": {},
   "outputs": [],
   "source": [
    "categorias = ['medicamentos', 'sua-beleza', 'manipulacao', 'infantil', 'dermocosmeticos', 'cuidados-pessoais']\n",
    "\n",
    "driver = webdriver.Chrome()\n",
    "links = []\n",
    "\n",
    "for categoria in categorias:\n",
    "    ref = f\"https://www.farmaciarosario.com.br/categorias/{categoria}\"\n",
    "    driver.get(ref)\n",
    "    wait = WebDriverWait(driver, 10)\n",
    "\n",
    "    while True:\n",
    "        try:\n",
    "            wait.until(EC.invisibility_of_element_located((By.CSS_SELECTOR, 'div.load.load-body')))\n",
    "            extrair_links(driver.page_source, links)\n",
    "\n",
    "            # Encontrar e clicar no botão de próxima página\n",
    "            next_page_button = wait.until(EC.element_to_be_clickable((By.CSS_SELECTOR, 'a[data-pagina=\"next\"]')))\n",
    "            next_page_button.click()\n",
    "            time.sleep(2)\n",
    "\n",
    "        except (StaleElementReferenceException, TimeoutException):\n",
    "            break\n",
    "\n",
    "driver.quit()"
   ]
  },
  {
   "cell_type": "markdown",
   "metadata": {},
   "source": [
    "### Extraindo informações"
   ]
  },
  {
   "cell_type": "code",
   "execution_count": 18,
   "metadata": {},
   "outputs": [],
   "source": [
    "# Criando df com links e salvando arquivo\n",
    "df_links = pd.DataFrame(links)\n",
    "df_links = df_links.drop_duplicates()\n",
    "df_links.to_csv('df_links.csv', index=False)"
   ]
  },
  {
   "cell_type": "code",
   "execution_count": 23,
   "metadata": {},
   "outputs": [],
   "source": [
    "max_workers = os.cpu_count()"
   ]
  },
  {
   "cell_type": "code",
   "execution_count": 25,
   "metadata": {},
   "outputs": [
    {
     "name": "stderr",
     "output_type": "stream",
     "text": [
      " 17%|█▋        | 2075/11930 [11:49<55:40,  2.95it/s]  "
     ]
    },
    {
     "name": "stdout",
     "output_type": "stream",
     "text": [
      "Erro ao processar a URL https://www.farmaciarosario.com.br//siblima-72comprimidos: ('Connection aborted.', RemoteDisconnected('Remote end closed connection without response'))\n"
     ]
    },
    {
     "name": "stderr",
     "output_type": "stream",
     "text": [
      " 26%|██▋       | 3136/11930 [17:58<43:04,  3.40it/s]   "
     ]
    },
    {
     "name": "stdout",
     "output_type": "stream",
     "text": [
      "Erro ao processar a URL https://www.farmaciarosario.com.br//acular-ls-colirio-5ml: HTTPSConnectionPool(host='www.farmaciarosario.com.br', port=443): Max retries exceeded with url: //acular-ls-colirio-5ml (Caused by NewConnectionError('<urllib3.connection.HTTPSConnection object at 0x00000269F7437690>: Failed to establish a new connection: [Errno 11001] getaddrinfo failed'))\n",
      "Erro ao processar a URL https://www.farmaciarosario.com.br//atropina-05-colirio-5ml: HTTPSConnectionPool(host='www.farmaciarosario.com.br', port=443): Max retries exceeded with url: //atropina-05-colirio-5ml (Caused by NewConnectionError('<urllib3.connection.HTTPSConnection object at 0x00000269F78ED5D0>: Failed to establish a new connection: [Errno 11001] getaddrinfo failed'))\n",
      "Erro ao processar a URL https://www.farmaciarosario.com.br//latonan-005mg-5mg-solucao-oftalmica-com-25ml: ('Connection aborted.', RemoteDisconnected('Remote end closed connection without response'))\n",
      "Erro ao processar a URL https://www.farmaciarosario.com.br//tart-brimonidina-solucao-oftalmica-2mg-5ml-510211: HTTPSConnectionPool(host='www.farmaciarosario.com.br', port=443): Max retries exceeded with url: //tart-brimonidina-solucao-oftalmica-2mg-5ml-510211 (Caused by NewConnectionError('<urllib3.connection.HTTPSConnection object at 0x00000269FD5F2290>: Failed to establish a new connection: [Errno 11001] getaddrinfo failed'))\n"
     ]
    },
    {
     "name": "stderr",
     "output_type": "stream",
     "text": [
      " 38%|███▊      | 4569/11930 [27:29<6:00:12,  2.94s/it]"
     ]
    },
    {
     "name": "stdout",
     "output_type": "stream",
     "text": [
      "Erro ao processar a URL https://www.farmaciarosario.com.br//salonpas-ice-cold-spray-120ml: ('Connection aborted.', RemoteDisconnected('Remote end closed connection without response'))\n"
     ]
    },
    {
     "name": "stderr",
     "output_type": "stream",
     "text": [
      " 38%|███▊      | 4570/11930 [27:36<7:51:34,  3.84s/it]"
     ]
    },
    {
     "name": "stdout",
     "output_type": "stream",
     "text": [
      "Erro ao processar a URL https://www.farmaciarosario.com.br//reactine-10mg-10capsulas: ('Connection aborted.', RemoteDisconnected('Remote end closed connection without response'))\n"
     ]
    },
    {
     "name": "stderr",
     "output_type": "stream",
     "text": [
      " 48%|████▊     | 5726/11930 [33:51<40:39,  2.54it/s]  "
     ]
    },
    {
     "name": "stdout",
     "output_type": "stream",
     "text": [
      "Erro ao processar a URL https://www.farmaciarosario.com.br//shampoo-clear-anticaspa-flor-de-cerejeira-200ml: ('Connection aborted.', RemoteDisconnected('Remote end closed connection without response'))\n",
      "Erro ao processar a URL https://www.farmaciarosario.com.br//tintura-amend-magnific-color-7-0-louro-natural: ('Connection aborted.', RemoteDisconnected('Remote end closed connection without response'))\n"
     ]
    },
    {
     "name": "stderr",
     "output_type": "stream",
     "text": [
      "100%|██████████| 11930/11930 [1:09:33<00:00,  2.86it/s]\n"
     ]
    }
   ],
   "source": [
    "infos = []\n",
    "\n",
    "with ThreadPoolExecutor(max_workers=max_workers) as executor:\n",
    "    # Use the map function to apply the process_url function to each URL in parallel\n",
    "    results = list(tqdm(executor.map(process_url, df_links['URL']), total=len(df_links)))\n",
    "\n",
    "# Collect the results\n",
    "infos = list(filter(None, results))"
   ]
  },
  {
   "cell_type": "markdown",
   "metadata": {},
   "source": [
    "### Tratamento de dados para output final"
   ]
  },
  {
   "cell_type": "code",
   "execution_count": 26,
   "metadata": {},
   "outputs": [],
   "source": [
    "df_infos = pd.DataFrame(infos)\n",
    "df_infos.to_csv('df_infos.csv')"
   ]
  },
  {
   "cell_type": "code",
   "execution_count": 27,
   "metadata": {},
   "outputs": [],
   "source": [
    "# Algumas linhas retornaram erros para o dataframe de informações no momento da extração, então essas serão removidas do dataframe de links para termos o mesmo número de linhas\n",
    "links_a_remover = ['https://www.farmaciarosario.com.br/siblima-72comprimidos', 'https://www.farmaciarosario.com.br/acular-ls-colirio-5ml', 'https://www.farmaciarosario.com.br/atropina-05-colirio-5ml', 'https://www.farmaciarosario.com.br/latonan-005mg-5mg-solucao-oftalmica-com-25ml', 'https://www.farmaciarosario.com.br/tart-brimonidina-solucao-oftalmica-2mg-5ml-510211', 'https://www.farmaciarosario.com.br/salonpas-ice-cold-spray-120ml', 'https://www.farmaciarosario.com.br/reactine-10mg-10capsulas', 'https://www.farmaciarosario.com.br/shampoo-clear-anticaspa-flor-de-cerejeira-200ml', 'https://www.farmaciarosario.com.br/tintura-amend-magnific-color-7-0-louro-natural', ]\n",
    "df = df_links[~df_links['URL'].isin(links_a_remover)]\n",
    "df = df.reset_index(drop=True)\n",
    "\n",
    "# Juntando os dois dataframes\n",
    "df_final = pd.concat([df_infos, df.iloc[:, -2:]], axis=1)"
   ]
  },
  {
   "cell_type": "code",
   "execution_count": 28,
   "metadata": {},
   "outputs": [],
   "source": [
    "# Adicionando colunas finais\n",
    "df_final['Farmacia'] = 'Santo Remedio'\n",
    "df_final['Região'] = 'Sudeste'\n",
    "df_final['Cidade'] = 'Sao Paulo'"
   ]
  },
  {
   "cell_type": "code",
   "execution_count": 29,
   "metadata": {},
   "outputs": [],
   "source": [
    "df_final.to_csv('df_final.csv', index=False)"
   ]
  }
 ],
 "metadata": {
  "kernelspec": {
   "display_name": "Python 3",
   "language": "python",
   "name": "python3"
  },
  "language_info": {
   "codemirror_mode": {
    "name": "ipython",
    "version": 3
   },
   "file_extension": ".py",
   "mimetype": "text/x-python",
   "name": "python",
   "nbconvert_exporter": "python",
   "pygments_lexer": "ipython3",
   "version": "3.11.4"
  }
 },
 "nbformat": 4,
 "nbformat_minor": 2
}
